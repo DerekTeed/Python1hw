{
 "cells": [
  {
   "cell_type": "code",
   "execution_count": 2,
   "metadata": {},
   "outputs": [],
   "source": [
    "# First we'll import the os module\n",
    "# This will allow us to create file paths across operating systems\n",
    "import os\n",
    "import pandas as pd\n",
    "import numpy as np\n",
    "# Module for reading CSV files\n",
    "import csv\n",
    "\n",
    "\n",
    "#months = input(\"How many months are in the dataset? Weo?\")\n",
    "df = pd.read_csv(\"excelBank.csv\")\n",
    "\n",
    "print(df)\n",
    "something1 = df.sum(axis = 1)\n",
    "\n",
    "\n",
    "#This is an integer and can be maniupated, done!\n",
    "print(df['Profit/Losses'])\n",
    "profitChange = df['Profit/Losses']\n",
    "profitChange1 = profitChange.diff().values\n",
    "print(\"new Hope\")\n",
    "#dates = df['date']\n",
    "gtIncrease = max(profitChange1[1:])\n",
    "gtDecrease = min(profitChange1[1:])\n",
    "\n",
    "# print(\"isna HERE!!!!!\")\n",
    "# print(pd.isna(profitChange1))\n",
    "# print(profitChange1[0] == 'nan')\n",
    "# print(\"profit change YOO!\")\n",
    "# print(df['profitChange1'])\n",
    "#print(final)\n",
    "print(max(profitChange1))\n",
    "newhope1 = max(profitChange1)\n",
    "print(type(newhope1))\n",
    "#print(something3)\n",
    "totalProfit = sum(something1)\n",
    "csvpath = os.path.join('excelBank.csv')\n",
    "\n",
    "\n",
    "with open(csvpath, newline='') as csvfile:\n",
    "\n",
    "    # CSV reader specifies delimiter and variable that holds contents\n",
    "    csvreader = csv.reader(csvfile, delimiter=',')\n",
    "    data = list(csvreader)\n",
    "    \n",
    "    row_count = len(data)\n",
    "    rowcount = row_count - 1\n",
    "    for line in csvreader:\n",
    "        print(\"printing line 1\")\n",
    "        print(line[1])\n",
    "    \n",
    "\n",
    "\n",
    "    print(f\"Number of Months: {rowcount} months\")\n",
    "    print(f\"Total Profits over time: ${totalProfit}\")\n",
    "    avgProfit = round(totalProfit/rowcount, 2)\n",
    "    print(f\"Average Profits: ${avgProfit}\")\n",
    "    print(f\"Greatest Increase in Profits: ${gtIncrease}\")\n",
    "    print(f\"Greatest Decrease in Profits: ${gtDecrease}\")\n",
    "\n",
    "    with open(csvpath, 'w') as wf:\n",
    "        for line in wf:\n",
    "            wf.write(line)\n",
    "            print(\"printing line 1\")"
   ]
  },
  {
   "cell_type": "code",
   "execution_count": null,
   "metadata": {},
   "outputs": [],
   "source": [
    "# Place all of the data found into a summary DataFrame\n",
    "summary_df = pd.DataFrame({\"Total Months: \": rowcount,\n",
    "                           \"Total Profits\": totalProfit,\n",
    "                              \"Average Change in Profits\": avgProfit,\n",
    "                              \"Largest Increase\": gtIncrease,\n",
    "                              \"Largest Decrease\": gtDecrease})\n",
    "summary_df"
   ]
  },
  {
   "cell_type": "code",
   "execution_count": null,
   "metadata": {},
   "outputs": [],
   "source": []
  }
 ],
 "metadata": {
  "kernelspec": {
   "display_name": "Python 3",
   "language": "python",
   "name": "python3"
  },
  "language_info": {
   "codemirror_mode": {
    "name": "ipython",
    "version": 3
   },
   "file_extension": ".py",
   "mimetype": "text/x-python",
   "name": "python",
   "nbconvert_exporter": "python",
   "pygments_lexer": "ipython3",
   "version": "3.7.4"
  }
 },
 "nbformat": 4,
 "nbformat_minor": 2
}
