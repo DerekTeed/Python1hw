{
 "cells": [
  {
   "cell_type": "code",
   "execution_count": 4,
   "metadata": {},
   "outputs": [
    {
     "ename": "SyntaxError",
     "evalue": "invalid syntax (<ipython-input-4-cf94494bdae1>, line 4)",
     "output_type": "error",
     "traceback": [
      "\u001b[0;36m  File \u001b[0;32m\"<ipython-input-4-cf94494bdae1>\"\u001b[0;36m, line \u001b[0;32m4\u001b[0m\n\u001b[0;31m    import pandas as pdimport numpy as np\u001b[0m\n\u001b[0m                                  ^\u001b[0m\n\u001b[0;31mSyntaxError\u001b[0m\u001b[0;31m:\u001b[0m invalid syntax\n"
     ]
    }
   ],
   "source": [
    "# First we'll import the os module\n",
    "# This will allow us to create file paths across operating systems\n",
    "import os\n",
    "import pandas as pd\n",
    "import numpy as np\n",
    "# Module for reading CSV files\n",
    "import csv\n",
    "\n",
    "df = pd.read_csv(\"excelBank.csv\")\n",
    "\n",
    "print(df)\n",
    "sum = df.sum(axis = 1)\n",
    "\n",
    "print(df['Profit/Losses'])\n",
    "profitChange = df['Profit/Losses']\n",
    "profitChange1 = profitChange.diff().values\n",
    "profitChange1 = profitChange1.dropna(how='any')\n",
    "print(\"new Hope\")\n",
    "\n",
    "gtIncrease = max(profitChange1[1])\n",
    "gtDecrease = min(profitChange1[1])\n",
    "\n",
    "print(max(profitChange1))\n",
    "newhope1 = max(profitChange1)\n",
    "print(type(newhope1))\n",
    "\n",
    "totalProfit = sum(sum)\n",
    "csvpath = os.path.join('excelBank.csv')\n",
    "    \n",
    "\n",
    "with open(csvpath, newline='') as csvfile:\n",
    "\n",
    "    # CSV reader specifies delimiter and variable that holds contents\n",
    "    csvreader = csv.reader(csvfile, delimiter=',')\n",
    "    data = list(csvreader)\n",
    "    \n",
    "    row_count = len(data)\n",
    "    rowcount = row_count - 1\n",
    "    for line in csvreader:\n",
    "        print(\"printing line 1\")\n",
    "        print(line[1])\n",
    "    \n",
    "\n",
    "\n",
    "    print(f\"Number of Months: {rowcount} months\")\n",
    "    print(f\"Total Profits over time: ${totalProfit}\")\n",
    "    avgProfit = round(totalProfit/rowcount, 2)\n",
    "    print(f\"Average Profits: ${avgProfit}\")\n",
    "    print(f\"Greatest Increase in Profits: ${gtIncrease}\")\n",
    "    print(f\"Greatest Decrease in Profits: ${gtDecrease}\")\n",
    "\n",
    "# with open(csvpath, 'w') as wf:\n",
    "#     for line in wf:\n",
    "#         wf.write(line)\n",
    "#         print(\"printing line 1\")\n",
    "\n",
    "\n",
    "\n",
    "summary_df = pd.DataFrame({ \"Total Months: \": [rowcount],\n",
    "                            \"Total Profits: \": [totalProfit],\n",
    "                              \"Average profit: \": avgProfit,\n",
    "                              \"Greatest Increase: \": gtIncrease,\n",
    "                              \"Greatest Decrease: \": gtDecrease})\n",
    "print(summary_df)\n",
    "\n",
    "summary_df.to_csv(\"outputPracticelist.csv\", index=False)"
   ]
  },
  {
   "cell_type": "code",
   "execution_count": null,
   "metadata": {},
   "outputs": [],
   "source": []
  },
  {
   "cell_type": "code",
   "execution_count": null,
   "metadata": {},
   "outputs": [],
   "source": []
  }
 ],
 "metadata": {
  "kernelspec": {
   "display_name": "Python 3",
   "language": "python",
   "name": "python3"
  }
 },
 "nbformat": 4,
 "nbformat_minor": 2
}
