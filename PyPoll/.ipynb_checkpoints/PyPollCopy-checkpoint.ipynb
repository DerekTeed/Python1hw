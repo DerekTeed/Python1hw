{
 "cells": [
  {
   "cell_type": "code",
   "execution_count": 13,
   "metadata": {},
   "outputs": [
    {
     "name": "stdout",
     "output_type": "stream",
     "text": [
      "         Voter ID County Candidate\n",
      "0        12864552  Marsh      Khan\n",
      "1        17444633  Marsh    Correy\n",
      "2        19330107  Marsh      Khan\n",
      "3        19865775  Queen      Khan\n",
      "4        11927875  Marsh      Khan\n",
      "...           ...    ...       ...\n",
      "1048570  15257733  Marsh      Khan\n",
      "1048571  18621583  Marsh      Khan\n",
      "1048572  15990024  Queen      Khan\n",
      "1048573  11307924  Marsh      Khan\n",
      "1048574  15590933  Marsh      Khan\n",
      "\n",
      "[1048575 rows x 3 columns]\n"
     ]
    }
   ],
   "source": [
    "# First we'll import the os module\n",
    "# This will allow us to create file paths across operating systems\n",
    "import os\n",
    "import pandas as pd\n",
    "import numpy as np\n",
    "# Module for reading CSV files\n",
    "import csv\n",
    "\n",
    "sumVoterId = 0\n",
    "\n",
    "df = pd.read_csv(\"PyPoll.csv\")\n",
    "print(df)"
   ]
  },
  {
   "cell_type": "code",
   "execution_count": 20,
   "metadata": {},
   "outputs": [
    {
     "data": {
      "text/plain": [
       "Voter ID     1048575\n",
       "County       1048575\n",
       "Candidate    1048575\n",
       "dtype: int64"
      ]
     },
     "execution_count": 20,
     "metadata": {},
     "output_type": "execute_result"
    }
   ],
   "source": []
  },
  {
   "cell_type": "code",
   "execution_count": null,
   "metadata": {},
   "outputs": [],
   "source": [
    "\n",
    "something1 = df.sum(axis = 1)\n",
    "\n",
    "print(df['Profit/Losses'])\n",
    "profitChange = df['Profit/Losses']\n",
    "profitChange1 = profitChange.diff().values\n",
    "print(\"new Hope\")\n",
    "\n",
    "gtIncrease = max(profitChange1[1:])\n",
    "gtDecrease = min(profitChange1[1:])\n",
    "\n",
    "print(max(profitChange1))\n",
    "newhope1 = max(profitChange1)\n",
    "print(type(newhope1))\n",
    "\n",
    "totalProfit = sum(something1)\n",
    "csvpath = os.path.join('PyPoll.csv')\n"
   ]
  },
  {
   "cell_type": "code",
   "execution_count": 12,
   "metadata": {},
   "outputs": [
    {
     "data": {
      "text/plain": [
       "15726474956381"
      ]
     },
     "execution_count": 12,
     "metadata": {},
     "output_type": "execute_result"
    }
   ],
   "source": [
    "#df = df.groupby([\"Voter ID\"])\n",
    "sum1 = df.sum(axis = 1)\n",
    "sum2 = sum(sum1)\n",
    "sum2\n",
    "#df[\"Voter ID\"] = df.sum(axis=1)\n",
    "#df[\"Voter ID\"]"
   ]
  },
  {
   "cell_type": "code",
   "execution_count": 19,
   "metadata": {},
   "outputs": [
    {
     "data": {
      "text/plain": [
       "array(['Khan', 'Correy', 'Li', \"O'Tooley\"], dtype=object)"
      ]
     },
     "execution_count": 19,
     "metadata": {},
     "output_type": "execute_result"
    }
   ],
   "source": [
    "listOfCandidates = df[\"Candidate\"].unique()\n",
    "listOfCandidates"
   ]
  },
  {
   "cell_type": "code",
   "execution_count": 23,
   "metadata": {},
   "outputs": [
    {
     "ename": "TypeError",
     "evalue": "'DataFrameGroupBy' object is not callable",
     "output_type": "error",
     "traceback": [
      "\u001b[0;31m---------------------------------------------------------------------------\u001b[0m",
      "\u001b[0;31mTypeError\u001b[0m                                 Traceback (most recent call last)",
      "\u001b[0;32m<ipython-input-23-e931f4411b29>\u001b[0m in \u001b[0;36m<module>\u001b[0;34m\u001b[0m\n\u001b[1;32m      1\u001b[0m \u001b[0mcandidate_group\u001b[0m \u001b[0;34m=\u001b[0m \u001b[0mdf\u001b[0m\u001b[0;34m.\u001b[0m\u001b[0mgroupby\u001b[0m\u001b[0;34m(\u001b[0m\u001b[0;34m[\u001b[0m\u001b[0;34m\"Candidate\"\u001b[0m\u001b[0;34m]\u001b[0m\u001b[0;34m)\u001b[0m\u001b[0;34m\u001b[0m\u001b[0;34m\u001b[0m\u001b[0m\n\u001b[0;32m----> 2\u001b[0;31m \u001b[0mcandidate_group\u001b[0m \u001b[0;34m=\u001b[0m \u001b[0mcandidate_group\u001b[0m\u001b[0;34m(\u001b[0m\u001b[0;34m[\u001b[0m\u001b[0;34m\"Candidate\"\u001b[0m\u001b[0;34m]\u001b[0m\u001b[0;34m)\u001b[0m\u001b[0;34m.\u001b[0m\u001b[0mcount\u001b[0m\u001b[0;34m(\u001b[0m\u001b[0;34m)\u001b[0m\u001b[0;34m\u001b[0m\u001b[0;34m\u001b[0m\u001b[0m\n\u001b[0m\u001b[1;32m      3\u001b[0m \u001b[0mcandidate_group\u001b[0m\u001b[0;34m\u001b[0m\u001b[0;34m\u001b[0m\u001b[0m\n",
      "\u001b[0;31mTypeError\u001b[0m: 'DataFrameGroupBy' object is not callable"
     ]
    }
   ],
   "source": [
    "candidate_group = df.groupby([\"Candidate\"])\n",
    "candidate_group = candidate_group.count([\"Candidate\"])\n",
    "candidate_group"
   ]
  },
  {
   "cell_type": "code",
   "execution_count": null,
   "metadata": {},
   "outputs": [],
   "source": [
    "\n",
    "with open(csvpath, newline='') as csvfile:\n",
    "\n",
    "    # CSV reader specifies delimiter and variable that holds contents\n",
    "    csvreader = csv.reader(csvfile, delimiter=',')\n",
    "    data = list(csvreader)\n",
    "    \n",
    "    row_count = len(data)\n",
    "    rowcount = row_count - 1\n",
    "    for line in csvreader:\n",
    "        print(\"printing line 1\")\n",
    "        print(line[1])\n",
    "    \n",
    "\n",
    "\n",
    "    print(f\"Total Voter Count: {sum2}\")\n",
    "    print(f\"Total Profits over time: ${totalProfit}\")\n",
    "    avgProfit = round(totalProfit/rowcount, 2)\n",
    "    print(f\"Average Profits: ${avgProfit}\")\n",
    "    print(f\"Greatest Increase in Profits: ${gtIncrease}\")\n",
    "    print(f\"Greatest Decrease in Profits: ${gtDecrease}\")\n",
    "\n",
    "# with open(csvpath, 'w') as wf:\n",
    "#     for line in wf:\n",
    "#         wf.write(line)\n",
    "#         print(\"printing line 1\")\n"
   ]
  },
  {
   "cell_type": "code",
   "execution_count": null,
   "metadata": {},
   "outputs": [],
   "source": [
    "\n",
    "summary_df = pd.DataFrame({ \"Total Voter Count\": [sum2],\n",
    "                            \"Total Profits\": [totalProfit],\n",
    "                              \"Average profit\": avgProfit,\n",
    "                              \"Greatest Increase\": gtIncrease,\n",
    "                              \"Greatest Decrease\": gtDecrease})\n",
    "print(summary_df)\n",
    "\n",
    "summary_df.to_csv(\"outputPracticelist.csv\", index=False)"
   ]
  }
 ],
 "metadata": {
  "kernelspec": {
   "display_name": "Python 3",
   "language": "python",
   "name": "python3"
  },
  "language_info": {
   "codemirror_mode": {
    "name": "ipython",
    "version": 3
   },
   "file_extension": ".py",
   "mimetype": "text/x-python",
   "name": "python",
   "nbconvert_exporter": "python",
   "pygments_lexer": "ipython3",
   "version": "3.7.4"
  }
 },
 "nbformat": 4,
 "nbformat_minor": 2
}
